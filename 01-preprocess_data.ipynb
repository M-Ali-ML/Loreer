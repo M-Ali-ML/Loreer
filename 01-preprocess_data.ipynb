{
 "cells": [
  {
   "cell_type": "code",
   "execution_count": 1,
   "metadata": {},
   "outputs": [],
   "source": [
    "import pandas as pd"
   ]
  },
  {
   "cell_type": "code",
   "execution_count": 4,
   "metadata": {},
   "outputs": [],
   "source": [
    "cleaned_data_path = \"data/parsed_cleaned_data.csv\""
   ]
  },
  {
   "cell_type": "code",
   "execution_count": 6,
   "metadata": {},
   "outputs": [
    {
     "data": {
      "text/html": [
       "<div>\n",
       "<style scoped>\n",
       "    .dataframe tbody tr th:only-of-type {\n",
       "        vertical-align: middle;\n",
       "    }\n",
       "\n",
       "    .dataframe tbody tr th {\n",
       "        vertical-align: top;\n",
       "    }\n",
       "\n",
       "    .dataframe thead th {\n",
       "        text-align: right;\n",
       "    }\n",
       "</style>\n",
       "<table border=\"1\" class=\"dataframe\">\n",
       "  <thead>\n",
       "    <tr style=\"text-align: right;\">\n",
       "      <th></th>\n",
       "      <th>id</th>\n",
       "      <th>title</th>\n",
       "      <th>ns</th>\n",
       "      <th>text</th>\n",
       "    </tr>\n",
       "  </thead>\n",
       "  <tbody>\n",
       "    <tr>\n",
       "      <th>16304</th>\n",
       "      <td>1481064</td>\n",
       "      <td>Category:Chinese Kog'Maw skins</td>\n",
       "      <td>14</td>\n",
       "      <td>This category contains all chinese skins relat...</td>\n",
       "    </tr>\n",
       "    <tr>\n",
       "      <th>25629</th>\n",
       "      <td>1594754</td>\n",
       "      <td>Category:WR Senna ability icons</td>\n",
       "      <td>14</td>\n",
       "      <td>[[Category:Senna ability icons]]</td>\n",
       "    </tr>\n",
       "    <tr>\n",
       "      <th>3085</th>\n",
       "      <td>753687</td>\n",
       "      <td>Scout (Season 2013 Mastery)</td>\n",
       "      <td>0</td>\n",
       "      <td>#REDIRECT [[Scout]][[Category:Season Three mas...</td>\n",
       "    </tr>\n",
       "    <tr>\n",
       "      <th>22646</th>\n",
       "      <td>1539953</td>\n",
       "      <td>Category:Azir tiles</td>\n",
       "      <td>14</td>\n",
       "      <td>This category contains all tiles related to {{...</td>\n",
       "    </tr>\n",
       "    <tr>\n",
       "      <th>13492</th>\n",
       "      <td>1452948</td>\n",
       "      <td>Nocturne/LOR</td>\n",
       "      <td>0</td>\n",
       "      <td>#REDIRECT [[Nocturne/LoR]]</td>\n",
       "    </tr>\n",
       "    <tr>\n",
       "      <th>21372</th>\n",
       "      <td>1525340</td>\n",
       "      <td>06NX012T7 (Legends of Runeterra)</td>\n",
       "      <td>0</td>\n",
       "      <td>#redirect [[Annie/LoR#06NX012T7]]</td>\n",
       "    </tr>\n",
       "    <tr>\n",
       "      <th>4898</th>\n",
       "      <td>1186383</td>\n",
       "      <td>Category:Logos</td>\n",
       "      <td>14</td>\n",
       "      <td>Category for various League of Legends-related...</td>\n",
       "    </tr>\n",
       "    <tr>\n",
       "      <th>6728</th>\n",
       "      <td>1327697</td>\n",
       "      <td>Jungle plants</td>\n",
       "      <td>0</td>\n",
       "      <td>{{SeeOther|species|[[Blast Cone (Species)]], [...</td>\n",
       "    </tr>\n",
       "    <tr>\n",
       "      <th>18630</th>\n",
       "      <td>1492779</td>\n",
       "      <td>Camille/Trivia</td>\n",
       "      <td>0</td>\n",
       "      <td>#REDIRECT [[Camille/LoL/Trivia]]</td>\n",
       "    </tr>\n",
       "    <tr>\n",
       "      <th>10668</th>\n",
       "      <td>1415244</td>\n",
       "      <td>Ki Guardian</td>\n",
       "      <td>0</td>\n",
       "      <td>#REDIRECT [[Ki Guardian (Legends of Runeterra)]]</td>\n",
       "    </tr>\n",
       "  </tbody>\n",
       "</table>\n",
       "</div>"
      ],
      "text/plain": [
       "            id                             title  ns  \\\n",
       "16304  1481064    Category:Chinese Kog'Maw skins  14   \n",
       "25629  1594754   Category:WR Senna ability icons  14   \n",
       "3085    753687       Scout (Season 2013 Mastery)   0   \n",
       "22646  1539953               Category:Azir tiles  14   \n",
       "13492  1452948                      Nocturne/LOR   0   \n",
       "21372  1525340  06NX012T7 (Legends of Runeterra)   0   \n",
       "4898   1186383                    Category:Logos  14   \n",
       "6728   1327697                     Jungle plants   0   \n",
       "18630  1492779                    Camille/Trivia   0   \n",
       "10668  1415244                       Ki Guardian   0   \n",
       "\n",
       "                                                    text  \n",
       "16304  This category contains all chinese skins relat...  \n",
       "25629                   [[Category:Senna ability icons]]  \n",
       "3085   #REDIRECT [[Scout]][[Category:Season Three mas...  \n",
       "22646  This category contains all tiles related to {{...  \n",
       "13492                         #REDIRECT [[Nocturne/LoR]]  \n",
       "21372                  #redirect [[Annie/LoR#06NX012T7]]  \n",
       "4898   Category for various League of Legends-related...  \n",
       "6728   {{SeeOther|species|[[Blast Cone (Species)]], [...  \n",
       "18630                   #REDIRECT [[Camille/LoL/Trivia]]  \n",
       "10668   #REDIRECT [[Ki Guardian (Legends of Runeterra)]]  "
      ]
     },
     "execution_count": 6,
     "metadata": {},
     "output_type": "execute_result"
    }
   ],
   "source": [
    "df = pd.read_csv(cleaned_data_path)\n",
    "df.sample(10)"
   ]
  },
  {
   "cell_type": "code",
   "execution_count": 10,
   "metadata": {},
   "outputs": [
    {
     "data": {
      "text/plain": [
       "count     26804.000000\n",
       "mean       2459.725825\n",
       "std        8576.265431\n",
       "min           2.000000\n",
       "25%          47.000000\n",
       "50%         138.000000\n",
       "75%         937.000000\n",
       "max      531124.000000\n",
       "Name: text, dtype: float64"
      ]
     },
     "execution_count": 10,
     "metadata": {},
     "output_type": "execute_result"
    }
   ],
   "source": [
    "# stats about letters count\n",
    "df[\"text\"].str.len().describe()"
   ]
  },
  {
   "cell_type": "code",
   "execution_count": 20,
   "metadata": {},
   "outputs": [
    {
     "data": {
      "text/plain": [
       "count    26804.000000\n",
       "mean       306.236084\n",
       "std       1140.564129\n",
       "min          1.000000\n",
       "25%          5.000000\n",
       "50%         12.000000\n",
       "75%        107.000000\n",
       "max      82048.000000\n",
       "Name: text, dtype: float64"
      ]
     },
     "execution_count": 20,
     "metadata": {},
     "output_type": "execute_result"
    }
   ],
   "source": [
    "# stats about word count\n",
    "df[\"text\"].str.split().str.len().describe()"
   ]
  },
  {
   "cell_type": "code",
   "execution_count": 17,
   "metadata": {},
   "outputs": [
    {
     "data": {
      "text/html": [
       "<div>\n",
       "<style scoped>\n",
       "    .dataframe tbody tr th:only-of-type {\n",
       "        vertical-align: middle;\n",
       "    }\n",
       "\n",
       "    .dataframe tbody tr th {\n",
       "        vertical-align: top;\n",
       "    }\n",
       "\n",
       "    .dataframe thead th {\n",
       "        text-align: right;\n",
       "    }\n",
       "</style>\n",
       "<table border=\"1\" class=\"dataframe\">\n",
       "  <thead>\n",
       "    <tr style=\"text-align: right;\">\n",
       "      <th></th>\n",
       "      <th>id</th>\n",
       "      <th>title</th>\n",
       "      <th>ns</th>\n",
       "      <th>text</th>\n",
       "    </tr>\n",
       "  </thead>\n",
       "  <tbody>\n",
       "  </tbody>\n",
       "</table>\n",
       "</div>"
      ],
      "text/plain": [
       "Empty DataFrame\n",
       "Columns: [id, title, ns, text]\n",
       "Index: []"
      ]
     },
     "execution_count": 17,
     "metadata": {},
     "output_type": "execute_result"
    }
   ],
   "source": [
    "df"
   ]
  },
  {
   "cell_type": "code",
   "execution_count": null,
   "metadata": {},
   "outputs": [],
   "source": []
  }
 ],
 "metadata": {
  "kernelspec": {
   "display_name": "Python 3",
   "language": "python",
   "name": "python3"
  },
  "language_info": {
   "codemirror_mode": {
    "name": "ipython",
    "version": 3
   },
   "file_extension": ".py",
   "mimetype": "text/x-python",
   "name": "python",
   "nbconvert_exporter": "python",
   "pygments_lexer": "ipython3",
   "version": "3.9.2"
  }
 },
 "nbformat": 4,
 "nbformat_minor": 2
}
