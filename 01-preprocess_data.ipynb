{
 "cells": [
  {
   "cell_type": "code",
   "execution_count": 1,
   "metadata": {},
   "outputs": [],
   "source": [
    "import pandas as pd\n",
    "\n",
    "pd.set_option(\"display.max_colwidth\", 200)"
   ]
  },
  {
   "cell_type": "markdown",
   "metadata": {},
   "source": [
    "# Statistics about the data"
   ]
  },
  {
   "cell_type": "code",
   "execution_count": 2,
   "metadata": {},
   "outputs": [],
   "source": [
    "cleaned_data_path = \"data/parsed_cleaned_data.csv\""
   ]
  },
  {
   "cell_type": "code",
   "execution_count": 3,
   "metadata": {},
   "outputs": [
    {
     "data": {
      "text/html": [
       "<div>\n",
       "<style scoped>\n",
       "    .dataframe tbody tr th:only-of-type {\n",
       "        vertical-align: middle;\n",
       "    }\n",
       "\n",
       "    .dataframe tbody tr th {\n",
       "        vertical-align: top;\n",
       "    }\n",
       "\n",
       "    .dataframe thead th {\n",
       "        text-align: right;\n",
       "    }\n",
       "</style>\n",
       "<table border=\"1\" class=\"dataframe\">\n",
       "  <thead>\n",
       "    <tr style=\"text-align: right;\">\n",
       "      <th></th>\n",
       "      <th>id</th>\n",
       "      <th>title</th>\n",
       "      <th>ns</th>\n",
       "      <th>text</th>\n",
       "    </tr>\n",
       "  </thead>\n",
       "  <tbody>\n",
       "    <tr>\n",
       "      <th>1375</th>\n",
       "      <td>747912</td>\n",
       "      <td>Ohmwrecker</td>\n",
       "      <td>0</td>\n",
       "      <td>{{Item info|automaticgv = true|goldvalue = {{gold value|Gold Value of Passive|nolink=}} * 20% [[movement speed]] = {{g|790}}** '''Total Gold Value''' = {{g|3340}}|goldefficiency = * {{ii|Ohmwrecke...</td>\n",
       "    </tr>\n",
       "    <tr>\n",
       "      <th>13581</th>\n",
       "      <td>1538107</td>\n",
       "      <td>Master Yi/LoR/PoC</td>\n",
       "      <td>0</td>\n",
       "      <td>{{PoC champion infobox|championname = Master Yi|campaign0    = {{#invoke:LoRPoCData|getChampCampaign|Master Yi|0|true}}|campaign1    = {{#invoke:LoRPoCData|getChampCampaign|Master Yi|1|true}}|camp...</td>\n",
       "    </tr>\n",
       "    <tr>\n",
       "      <th>4067</th>\n",
       "      <td>1331226</td>\n",
       "      <td>Category:Ornn skins</td>\n",
       "      <td>14</td>\n",
       "      <td>This category contains all skins related to {{ci|Ornn}}.[[de:Category:Ornn Splasharts]][[Category:Champion skins]][[Category:Ornn]]</td>\n",
       "    </tr>\n",
       "    <tr>\n",
       "      <th>3962</th>\n",
       "      <td>1327552</td>\n",
       "      <td>V7.12</td>\n",
       "      <td>0</td>\n",
       "      <td>{{Infobox patch |Image =  &lt;gallery&gt; Riven DawnbringerSkin.jpg|Riven Yasuo NightbringerSkin.jpg|Yasuo &lt;/gallery&gt; |Caption = ''\"Not all angels are good.\"'' |Highlights =  * New Legendary skins:  ** ...</td>\n",
       "    </tr>\n",
       "    <tr>\n",
       "      <th>11278</th>\n",
       "      <td>1490054</td>\n",
       "      <td>Yuumi/LoL/History</td>\n",
       "      <td>0</td>\n",
       "      <td>{{Section top}} {{LoL navigation}}  == Previous Abilities == {{Ability|I |name         = Bop 'n' Block |icon         = Bop 'n' Block.png |description  = {{sbc|Innate:}} Periodically, '''Yuumi's'''...</td>\n",
       "    </tr>\n",
       "    <tr>\n",
       "      <th>9915</th>\n",
       "      <td>1481382</td>\n",
       "      <td>Category:Unused Rakan skins</td>\n",
       "      <td>14</td>\n",
       "      <td>This category contains all unused skins related to {{ci|Rakan}}.[[Category:Rakan skins]][[Category:Unused champion skins|Rakan skins]]</td>\n",
       "    </tr>\n",
       "    <tr>\n",
       "      <th>14411</th>\n",
       "      <td>1540323</td>\n",
       "      <td>Category:WR Xayah circles</td>\n",
       "      <td>14</td>\n",
       "      <td>This category contains all {{tip|Wild Rift}} circle images related to {{WRc|Xayah}}.[[Category:Xayah]][[Category:WR champion circles|Xayah circles]]</td>\n",
       "    </tr>\n",
       "    <tr>\n",
       "      <th>1901</th>\n",
       "      <td>1061391</td>\n",
       "      <td>Category:Anivia skins</td>\n",
       "      <td>14</td>\n",
       "      <td>This category contains all skins related to {{ci|Anivia}}.[[de:Kategorie:Anivia Splasharts]][[fr:Catégorie:Anivia skins]][[Category:Champion skins]][[Category:Anivia]]</td>\n",
       "    </tr>\n",
       "    <tr>\n",
       "      <th>14108</th>\n",
       "      <td>1539990</td>\n",
       "      <td>Category:Jayce tiles</td>\n",
       "      <td>14</td>\n",
       "      <td>This category contains all tiles related to {{ci|Jayce}}.[[Category:Jayce]][[Category:Champion tiles]]</td>\n",
       "    </tr>\n",
       "    <tr>\n",
       "      <th>15979</th>\n",
       "      <td>1590334</td>\n",
       "      <td>Captain Rowain</td>\n",
       "      <td>0</td>\n",
       "      <td>#REDIRECT:[[Minor_Characters/Piltover#Rowain]]</td>\n",
       "    </tr>\n",
       "  </tbody>\n",
       "</table>\n",
       "</div>"
      ],
      "text/plain": [
       "            id                        title  ns  \\\n",
       "1375    747912                   Ohmwrecker   0   \n",
       "13581  1538107            Master Yi/LoR/PoC   0   \n",
       "4067   1331226          Category:Ornn skins  14   \n",
       "3962   1327552                        V7.12   0   \n",
       "11278  1490054            Yuumi/LoL/History   0   \n",
       "9915   1481382  Category:Unused Rakan skins  14   \n",
       "14411  1540323    Category:WR Xayah circles  14   \n",
       "1901   1061391        Category:Anivia skins  14   \n",
       "14108  1539990         Category:Jayce tiles  14   \n",
       "15979  1590334               Captain Rowain   0   \n",
       "\n",
       "                                                                                                                                                                                                          text  \n",
       "1375   {{Item info|automaticgv = true|goldvalue = {{gold value|Gold Value of Passive|nolink=}} * 20% [[movement speed]] = {{g|790}}** '''Total Gold Value''' = {{g|3340}}|goldefficiency = * {{ii|Ohmwrecke...  \n",
       "13581  {{PoC champion infobox|championname = Master Yi|campaign0    = {{#invoke:LoRPoCData|getChampCampaign|Master Yi|0|true}}|campaign1    = {{#invoke:LoRPoCData|getChampCampaign|Master Yi|1|true}}|camp...  \n",
       "4067                                                                       This category contains all skins related to {{ci|Ornn}}.[[de:Category:Ornn Splasharts]][[Category:Champion skins]][[Category:Ornn]]  \n",
       "3962   {{Infobox patch |Image =  <gallery> Riven DawnbringerSkin.jpg|Riven Yasuo NightbringerSkin.jpg|Yasuo </gallery> |Caption = ''\"Not all angels are good.\"'' |Highlights =  * New Legendary skins:  ** ...  \n",
       "11278  {{Section top}} {{LoL navigation}}  == Previous Abilities == {{Ability|I |name         = Bop 'n' Block |icon         = Bop 'n' Block.png |description  = {{sbc|Innate:}} Periodically, '''Yuumi's'''...  \n",
       "9915                                                                    This category contains all unused skins related to {{ci|Rakan}}.[[Category:Rakan skins]][[Category:Unused champion skins|Rakan skins]]  \n",
       "14411                                                     This category contains all {{tip|Wild Rift}} circle images related to {{WRc|Xayah}}.[[Category:Xayah]][[Category:WR champion circles|Xayah circles]]  \n",
       "1901                                   This category contains all skins related to {{ci|Anivia}}.[[de:Kategorie:Anivia Splasharts]][[fr:Catégorie:Anivia skins]][[Category:Champion skins]][[Category:Anivia]]  \n",
       "14108                                                                                                   This category contains all tiles related to {{ci|Jayce}}.[[Category:Jayce]][[Category:Champion tiles]]  \n",
       "15979                                                                                                                                                           #REDIRECT:[[Minor_Characters/Piltover#Rowain]]  "
      ]
     },
     "execution_count": 3,
     "metadata": {},
     "output_type": "execute_result"
    }
   ],
   "source": [
    "df = pd.read_csv(cleaned_data_path)\n",
    "df.sample(10)"
   ]
  },
  {
   "cell_type": "code",
   "execution_count": 4,
   "metadata": {},
   "outputs": [],
   "source": [
    "df[\"text\"] = df[\"text\"].astype(str)\n",
    "df[\"title\"] = df[\"title\"].astype(str)"
   ]
  },
  {
   "cell_type": "code",
   "execution_count": 5,
   "metadata": {},
   "outputs": [
    {
     "data": {
      "text/plain": [
       "count     17089.000000\n",
       "mean       3827.348704\n",
       "std       10497.537494\n",
       "min           3.000000\n",
       "25%         143.000000\n",
       "50%         372.000000\n",
       "75%        3098.000000\n",
       "max      531124.000000\n",
       "Name: text, dtype: float64"
      ]
     },
     "execution_count": 5,
     "metadata": {},
     "output_type": "execute_result"
    }
   ],
   "source": [
    "# stats about letters count\n",
    "df[\"text\"].str.len().describe()"
   ]
  },
  {
   "cell_type": "code",
   "execution_count": 6,
   "metadata": {},
   "outputs": [
    {
     "data": {
      "text/plain": [
       "count    17089.000000\n",
       "mean       476.883258\n",
       "std       1399.983929\n",
       "min          1.000000\n",
       "25%         13.000000\n",
       "50%         39.000000\n",
       "75%        323.000000\n",
       "max      82048.000000\n",
       "Name: text, dtype: float64"
      ]
     },
     "execution_count": 6,
     "metadata": {},
     "output_type": "execute_result"
    }
   ],
   "source": [
    "# stats about word count\n",
    "df[\"text\"].str.split().str.len().describe()"
   ]
  },
  {
   "cell_type": "code",
   "execution_count": 7,
   "metadata": {},
   "outputs": [
    {
     "data": {
      "text/plain": [
       "462      82048\n",
       "1044     43475\n",
       "11418    23426\n",
       "3614     20921\n",
       "11845    20282\n",
       "15937    18281\n",
       "8470     17845\n",
       "5140     15636\n",
       "262      15614\n",
       "190      15596\n",
       "16674    15584\n",
       "261      15276\n",
       "191      15188\n",
       "571      14861\n",
       "5942     14816\n",
       "3838     14330\n",
       "12314    14001\n",
       "16865    13911\n",
       "3114     13889\n",
       "12291    13367\n",
       "6845     13233\n",
       "16828    13157\n",
       "2328     12982\n",
       "13229    12706\n",
       "13118    12176\n",
       "543      12073\n",
       "2852     12043\n",
       "3850     11874\n",
       "6255     11823\n",
       "456      11772\n",
       "Name: text, dtype: int64"
      ]
     },
     "execution_count": 7,
     "metadata": {},
     "output_type": "execute_result"
    }
   ],
   "source": [
    "df[\"text\"].str.split().str.len().sort_values(ascending=False).head(30)"
   ]
  },
  {
   "cell_type": "code",
   "execution_count": 8,
   "metadata": {},
   "outputs": [],
   "source": [
    "def split_text_to_multiple_rows(df, text_column, id_column, word_limit, additional_columns):\n",
    "    new_rows = []\n",
    "    \n",
    "    for _, row in df.iterrows():\n",
    "        text = row[text_column]\n",
    "        id_prefix = row[id_column]\n",
    "        words = text.split()\n",
    "        \n",
    "        # Split the text into chunks of 'word_limit' words\n",
    "        chunks = [words[i:i + word_limit] for i in range(0, len(words), word_limit)]\n",
    "        \n",
    "        # Create new rows with updated ids and same values for additional columns\n",
    "        for idx, chunk in enumerate(chunks):\n",
    "            new_id = f\"{id_prefix}-{idx:03d}\"\n",
    "            new_text = ' '.join(chunk)\n",
    "            new_row = {id_column: new_id, text_column: new_text}\n",
    "            for col in additional_columns:\n",
    "                new_row[col] = row[col]\n",
    "            new_rows.append(new_row)\n",
    "    \n",
    "    # Create a new DataFrame from the list of new rows\n",
    "    new_df = pd.DataFrame(new_rows)\n",
    "    \n",
    "    return new_df\n"
   ]
  },
  {
   "cell_type": "markdown",
   "metadata": {},
   "source": [
    "# Embedding mode\n",
    "there are lots of embedding models, you can see which one is performing good on HF leaderboard and suits your needs\n",
    "https://huggingface.co/spaces/mteb/leaderboard\n",
    "\n",
    "\n",
    "the max token is important for our chunking word limit, token are about 0.75 word"
   ]
  },
  {
   "cell_type": "code",
   "execution_count": 9,
   "metadata": {},
   "outputs": [
    {
     "data": {
      "text/html": [
       "<div>\n",
       "<style scoped>\n",
       "    .dataframe tbody tr th:only-of-type {\n",
       "        vertical-align: middle;\n",
       "    }\n",
       "\n",
       "    .dataframe tbody tr th {\n",
       "        vertical-align: top;\n",
       "    }\n",
       "\n",
       "    .dataframe thead th {\n",
       "        text-align: right;\n",
       "    }\n",
       "</style>\n",
       "<table border=\"1\" class=\"dataframe\">\n",
       "  <thead>\n",
       "    <tr style=\"text-align: right;\">\n",
       "      <th></th>\n",
       "      <th>id</th>\n",
       "      <th>text</th>\n",
       "      <th>title</th>\n",
       "      <th>ns</th>\n",
       "    </tr>\n",
       "  </thead>\n",
       "  <tbody>\n",
       "    <tr>\n",
       "      <th>0</th>\n",
       "      <td>2030-000</td>\n",
       "      <td>{{Portal/LOL}} {{Cleanup| * Game modes section links to [[Classic]], which is legacy terminology. * Game modes section includes TFT but describes TFT as a \"game available through the League Client...</td>\n",
       "      <td>League of Legends</td>\n",
       "      <td>0</td>\n",
       "    </tr>\n",
       "    <tr>\n",
       "      <th>1</th>\n",
       "      <td>2032-000</td>\n",
       "      <td>&lt;!--{{Stub|This page needs more on the characteristics champions have, or links to the relevant pages for such things.}}--&gt; :''This is about the {{tip|League of Legends}} player-controlled units, ...</td>\n",
       "      <td>Champion</td>\n",
       "      <td>0</td>\n",
       "    </tr>\n",
       "    <tr>\n",
       "      <th>2</th>\n",
       "      <td>2040-000</td>\n",
       "      <td>[[File:Urf OriginalSkin.jpg|thumb|300px|Urf, the Manatee]] : ''Not to be confused with {{tip|Ultra Rapid Fire}}'' : ''For other terms, visit [[Urf (disambiguation)]]'' {{SeeOther|species|[[Manatee...</td>\n",
       "      <td>Urf</td>\n",
       "      <td>0</td>\n",
       "    </tr>\n",
       "    <tr>\n",
       "      <th>3</th>\n",
       "      <td>2043-000</td>\n",
       "      <td>{{Section top}}{{Game banner|Nunu|disp_name=Nunu &amp; Willump}}{{LoL navigation}}{{Infobox champion|Nunu|disp_name=Nunu &amp; Willump}}{{LoL navigation mobile}}{{Infobox stats|Nunu}}{{clr}}The champion {...</td>\n",
       "      <td>Nunu/LoL</td>\n",
       "      <td>0</td>\n",
       "    </tr>\n",
       "    <tr>\n",
       "      <th>4</th>\n",
       "      <td>2044-000</td>\n",
       "      <td>{{Section top}}{{Game banner|Alistar}}{{LoL navigation}}{{Infobox champion|Alistar}}{{LoL navigation mobile}}{{Infobox stats|Alistar}}{{clr}}== Abilities =={{Data Alistar/I|Ability}}{{Data Alistar...</td>\n",
       "      <td>Alistar/LoL</td>\n",
       "      <td>0</td>\n",
       "    </tr>\n",
       "    <tr>\n",
       "      <th>...</th>\n",
       "      <td>...</td>\n",
       "      <td>...</td>\n",
       "      <td>...</td>\n",
       "      <td>...</td>\n",
       "    </tr>\n",
       "    <tr>\n",
       "      <th>17319</th>\n",
       "      <td>1631196-000</td>\n",
       "      <td>&lt;!--The temporary, non-official code for this relic is RX001--&gt;{{PoC item infobox|custom|name=Succubus's Brand|image=Succubus's Brand LoR relic.png|imagesize=200px|type=Relic|desc=&lt;nowiki&gt;+1|+1&lt;/n...</td>\n",
       "      <td>Succubus's Brand (The Path of Champions)</td>\n",
       "      <td>0</td>\n",
       "    </tr>\n",
       "    <tr>\n",
       "      <th>17320</th>\n",
       "      <td>1631197-000</td>\n",
       "      <td>&lt;!--The temporary, non-official code for this relic is RX002--&gt;{{PoC item infobox|custom|name=Voidborne Carapace|image=Voidborne Carapace LoR relic.png|imagesize=200px|type=Relic|desc={{tipLoR|Evo...</td>\n",
       "      <td>Voidborne Carapace (The Path of Champions)</td>\n",
       "      <td>0</td>\n",
       "    </tr>\n",
       "    <tr>\n",
       "      <th>17321</th>\n",
       "      <td>1631198-000</td>\n",
       "      <td>&lt;!--The temporary, non-official code for this item is IX005--&gt;{{PoC item infobox|custom|name=Arcane Knowledge|image=06RU043-full.png|imagesize=200px|type=Item|desc=When I'm summoned, draw a spell....</td>\n",
       "      <td>Arcane Knowledge (The Path of Champions)</td>\n",
       "      <td>0</td>\n",
       "    </tr>\n",
       "    <tr>\n",
       "      <th>17322</th>\n",
       "      <td>1631199-000</td>\n",
       "      <td>&lt;!--The temporary, non-official code for this item is IX006--&gt;{{PoC item infobox|custom|name=Immortal|image=08NX028-full.png|imagesize=200px|type=Item|desc=&lt;nowiki&gt;+1|+0&lt;/nowiki&gt; and {{tipLoR|Deat...</td>\n",
       "      <td>Immortal (The Path of Champions)</td>\n",
       "      <td>0</td>\n",
       "    </tr>\n",
       "    <tr>\n",
       "      <th>17323</th>\n",
       "      <td>1631200-000</td>\n",
       "      <td>&lt;!---This item has yet to appear in game or have filed uploaded by Riot but it was mentioned in 4.9 patch notes--&gt;{{PoC item infobox|custom|name=Excavator Charge|type=Item|desc=When you play a car...</td>\n",
       "      <td>Excavator Charge (The Path of Champions)</td>\n",
       "      <td>0</td>\n",
       "    </tr>\n",
       "  </tbody>\n",
       "</table>\n",
       "<p>17324 rows × 4 columns</p>\n",
       "</div>"
      ],
      "text/plain": [
       "                id  \\\n",
       "0         2030-000   \n",
       "1         2032-000   \n",
       "2         2040-000   \n",
       "3         2043-000   \n",
       "4         2044-000   \n",
       "...            ...   \n",
       "17319  1631196-000   \n",
       "17320  1631197-000   \n",
       "17321  1631198-000   \n",
       "17322  1631199-000   \n",
       "17323  1631200-000   \n",
       "\n",
       "                                                                                                                                                                                                          text  \\\n",
       "0      {{Portal/LOL}} {{Cleanup| * Game modes section links to [[Classic]], which is legacy terminology. * Game modes section includes TFT but describes TFT as a \"game available through the League Client...   \n",
       "1      <!--{{Stub|This page needs more on the characteristics champions have, or links to the relevant pages for such things.}}--> :''This is about the {{tip|League of Legends}} player-controlled units, ...   \n",
       "2      [[File:Urf OriginalSkin.jpg|thumb|300px|Urf, the Manatee]] : ''Not to be confused with {{tip|Ultra Rapid Fire}}'' : ''For other terms, visit [[Urf (disambiguation)]]'' {{SeeOther|species|[[Manatee...   \n",
       "3      {{Section top}}{{Game banner|Nunu|disp_name=Nunu & Willump}}{{LoL navigation}}{{Infobox champion|Nunu|disp_name=Nunu & Willump}}{{LoL navigation mobile}}{{Infobox stats|Nunu}}{{clr}}The champion {...   \n",
       "4      {{Section top}}{{Game banner|Alistar}}{{LoL navigation}}{{Infobox champion|Alistar}}{{LoL navigation mobile}}{{Infobox stats|Alistar}}{{clr}}== Abilities =={{Data Alistar/I|Ability}}{{Data Alistar...   \n",
       "...                                                                                                                                                                                                        ...   \n",
       "17319  <!--The temporary, non-official code for this relic is RX001-->{{PoC item infobox|custom|name=Succubus's Brand|image=Succubus's Brand LoR relic.png|imagesize=200px|type=Relic|desc=<nowiki>+1|+1</n...   \n",
       "17320  <!--The temporary, non-official code for this relic is RX002-->{{PoC item infobox|custom|name=Voidborne Carapace|image=Voidborne Carapace LoR relic.png|imagesize=200px|type=Relic|desc={{tipLoR|Evo...   \n",
       "17321  <!--The temporary, non-official code for this item is IX005-->{{PoC item infobox|custom|name=Arcane Knowledge|image=06RU043-full.png|imagesize=200px|type=Item|desc=When I'm summoned, draw a spell....   \n",
       "17322  <!--The temporary, non-official code for this item is IX006-->{{PoC item infobox|custom|name=Immortal|image=08NX028-full.png|imagesize=200px|type=Item|desc=<nowiki>+1|+0</nowiki> and {{tipLoR|Deat...   \n",
       "17323  <!---This item has yet to appear in game or have filed uploaded by Riot but it was mentioned in 4.9 patch notes-->{{PoC item infobox|custom|name=Excavator Charge|type=Item|desc=When you play a car...   \n",
       "\n",
       "                                            title  ns  \n",
       "0                               League of Legends   0  \n",
       "1                                        Champion   0  \n",
       "2                                             Urf   0  \n",
       "3                                        Nunu/LoL   0  \n",
       "4                                     Alistar/LoL   0  \n",
       "...                                           ...  ..  \n",
       "17319    Succubus's Brand (The Path of Champions)   0  \n",
       "17320  Voidborne Carapace (The Path of Champions)   0  \n",
       "17321    Arcane Knowledge (The Path of Champions)   0  \n",
       "17322            Immortal (The Path of Champions)   0  \n",
       "17323    Excavator Charge (The Path of Champions)   0  \n",
       "\n",
       "[17324 rows x 4 columns]"
      ]
     },
     "execution_count": 9,
     "metadata": {},
     "output_type": "execute_result"
    }
   ],
   "source": [
    "# word_limit depend on which model you are using\n",
    "df = split_text_to_multiple_rows(df, 'text', 'id', word_limit=5700, additional_columns=['title', 'ns'])\n",
    "df"
   ]
  },
  {
   "cell_type": "code",
   "execution_count": 10,
   "metadata": {},
   "outputs": [],
   "source": [
    "# import torch.nn.functional as F\n",
    "# from transformers import AutoModel, AutoTokenizer\n",
    "# import torch\n",
    "# from torch.utils.data import DataLoader, TensorDataset\n",
    "\n",
    "# device = torch.device('cuda' if torch.cuda.is_available() else 'cpu')\n",
    "\n",
    "# model_path = 'Alibaba-NLP/gte-large-en-v1.5'\n",
    "# tokenizer = AutoTokenizer.from_pretrained(model_path)\n",
    "# model = AutoModel.from_pretrained(model_path, trust_remote_code=True,\n",
    "#                                   unpad_inputs=True,\n",
    "#                                   use_memory_efficient_attention=True).to(device)\n",
    "\n",
    "# # Tokenize the input texts\n",
    "# inputs = tokenizer(df[\"text\"].to_list(), max_length=8192, padding=True, truncation=True, return_tensors='pt')\n",
    "\n",
    "# # Create a TensorDataset and DataLoader for batching\n",
    "# dataset = TensorDataset(inputs['input_ids'], inputs['attention_mask'])\n",
    "# batch_size = 1  # Specify your batch size here\n",
    "# dataloader = DataLoader(dataset, batch_size=batch_size)\n",
    "\n",
    "# all_embeddings = []\n",
    "\n",
    "# with torch.autocast(device_type=device.type, dtype=torch.float16):  # or bfloat16\n",
    "#     with torch.inference_mode():\n",
    "#         for batch in dataloader:\n",
    "#             batch = {k: v.to(device) for k, v in zip(inputs.keys(), batch)}\n",
    "#             outputs = model(**batch)\n",
    "#             embeddings = outputs.last_hidden_state[:, 0]\n",
    "#             all_embeddings.append(embeddings)\n",
    "\n",
    "# # Concatenate all embeddings\n",
    "# all_embeddings = torch.cat(all_embeddings, dim=0)\n",
    "\n",
    "# # (Optionally) normalize embeddings\n",
    "# # all_embeddings = F.normalize(all_embeddings, p=2, dim=1)\n",
    "# # scores = (all_embeddings[:1] @ all_embeddings[1:].T) * 100\n",
    "# # print(scores.tolist())\n"
   ]
  },
  {
   "cell_type": "code",
   "execution_count": 11,
   "metadata": {},
   "outputs": [],
   "source": [
    "# !pip install -U sentence-transformers"
   ]
  },
  {
   "cell_type": "code",
   "execution_count": 12,
   "metadata": {},
   "outputs": [],
   "source": [
    "# \"Title: \" + df[\"title\"] + \": \""
   ]
  },
  {
   "cell_type": "code",
   "execution_count": 13,
   "metadata": {},
   "outputs": [
    {
     "data": {
      "text/plain": [
       "0        Title: League of Legends: {{Portal/LOL}} {{Cleanup| * Game modes section links to [[Classic]], which is legacy terminology. * Game modes section includes TFT but describes TFT as a \"game available...\n",
       "1        Title: Champion: <!--{{Stub|This page needs more on the characteristics champions have, or links to the relevant pages for such things.}}--> :''This is about the {{tip|League of Legends}} player-c...\n",
       "2        Title: Urf: [[File:Urf OriginalSkin.jpg|thumb|300px|Urf, the Manatee]] : ''Not to be confused with {{tip|Ultra Rapid Fire}}'' : ''For other terms, visit [[Urf (disambiguation)]]'' {{SeeOther|speci...\n",
       "3        Title: Nunu/LoL: {{Section top}}{{Game banner|Nunu|disp_name=Nunu & Willump}}{{LoL navigation}}{{Infobox champion|Nunu|disp_name=Nunu & Willump}}{{LoL navigation mobile}}{{Infobox stats|Nunu}}{{cl...\n",
       "4        Title: Alistar/LoL: {{Section top}}{{Game banner|Alistar}}{{LoL navigation}}{{Infobox champion|Alistar}}{{LoL navigation mobile}}{{Infobox stats|Alistar}}{{clr}}== Abilities =={{Data Alistar/I|Abi...\n",
       "                                                                                                          ...                                                                                                   \n",
       "17319    Title: Succubus's Brand (The Path of Champions): <!--The temporary, non-official code for this relic is RX001-->{{PoC item infobox|custom|name=Succubus's Brand|image=Succubus's Brand LoR relic.png...\n",
       "17320    Title: Voidborne Carapace (The Path of Champions): <!--The temporary, non-official code for this relic is RX002-->{{PoC item infobox|custom|name=Voidborne Carapace|image=Voidborne Carapace LoR rel...\n",
       "17321    Title: Arcane Knowledge (The Path of Champions): <!--The temporary, non-official code for this item is IX005-->{{PoC item infobox|custom|name=Arcane Knowledge|image=06RU043-full.png|imagesize=200p...\n",
       "17322    Title: Immortal (The Path of Champions): <!--The temporary, non-official code for this item is IX006-->{{PoC item infobox|custom|name=Immortal|image=08NX028-full.png|imagesize=200px|type=Item|desc...\n",
       "17323    Title: Excavator Charge (The Path of Champions): <!---This item has yet to appear in game or have filed uploaded by Riot but it was mentioned in 4.9 patch notes-->{{PoC item infobox|custom|name=Ex...\n",
       "Length: 17324, dtype: object"
      ]
     },
     "execution_count": 13,
     "metadata": {},
     "output_type": "execute_result"
    }
   ],
   "source": [
    "\"Title: \" + df[\"title\"] + \": \" + df[\"text\"]"
   ]
  },
  {
   "cell_type": "code",
   "execution_count": 14,
   "metadata": {},
   "outputs": [
    {
     "name": "stderr",
     "output_type": "stream",
     "text": [
      "/home/userzero/.local/lib/python3.9/site-packages/sentence_transformers/cross_encoder/CrossEncoder.py:11: TqdmExperimentalWarning: Using `tqdm.autonotebook.tqdm` in notebook mode. Use `tqdm.tqdm` instead to force console mode (e.g. in jupyter console)\n",
      "  from tqdm.autonotebook import tqdm, trange\n",
      "2024-06-21 16:24:00.894782: I tensorflow/core/util/port.cc:113] oneDNN custom operations are on. You may see slightly different numerical results due to floating-point round-off errors from different computation orders. To turn them off, set the environment variable `TF_ENABLE_ONEDNN_OPTS=0`.\n",
      "2024-06-21 16:24:00.921221: E external/local_xla/xla/stream_executor/cuda/cuda_dnn.cc:9261] Unable to register cuDNN factory: Attempting to register factory for plugin cuDNN when one has already been registered\n",
      "2024-06-21 16:24:00.921247: E external/local_xla/xla/stream_executor/cuda/cuda_fft.cc:607] Unable to register cuFFT factory: Attempting to register factory for plugin cuFFT when one has already been registered\n",
      "2024-06-21 16:24:00.922033: E external/local_xla/xla/stream_executor/cuda/cuda_blas.cc:1515] Unable to register cuBLAS factory: Attempting to register factory for plugin cuBLAS when one has already been registered\n",
      "2024-06-21 16:24:00.926359: I tensorflow/core/platform/cpu_feature_guard.cc:182] This TensorFlow binary is optimized to use available CPU instructions in performance-critical operations.\n",
      "To enable the following instructions: AVX2 AVX512F AVX512_VNNI FMA, in other operations, rebuild TensorFlow with the appropriate compiler flags.\n",
      "2024-06-21 16:24:01.476269: W tensorflow/compiler/tf2tensorrt/utils/py_utils.cc:38] TF-TRT Warning: Could not find TensorRT\n"
     ]
    },
    {
     "data": {
      "application/vnd.jupyter.widget-view+json": {
       "model_id": "0d69746fcdb843be92f2a106a61dc51c",
       "version_major": 2,
       "version_minor": 0
      },
      "text/plain": [
       "Batches:   0%|          | 0/17324 [00:00<?, ?it/s]"
      ]
     },
     "metadata": {},
     "output_type": "display_data"
    }
   ],
   "source": [
    "\n",
    "from sentence_transformers import SentenceTransformer\n",
    "from sentence_transformers.util import cos_sim\n",
    "import torch\n",
    "import torch.nn.functional as F\n",
    "\n",
    "\n",
    "model = SentenceTransformer('Alibaba-NLP/gte-base-en-v1.5', trust_remote_code=True, model_kwargs={\"torch_dtype\":torch.bfloat16})\n",
    "embeddings = model.encode(\"Title: \" + df[\"title\"] + \": \" + df[\"text\"], batch_size=1, show_progress_bar=True)\n"
   ]
  },
  {
   "cell_type": "code",
   "execution_count": 21,
   "metadata": {},
   "outputs": [
    {
     "data": {
      "text/plain": [
       "1.2265625"
      ]
     },
     "execution_count": 21,
     "metadata": {},
     "output_type": "execute_result"
    }
   ],
   "source": []
  }
 ],
 "metadata": {
  "kernelspec": {
   "display_name": "Python 3",
   "language": "python",
   "name": "python3"
  },
  "language_info": {
   "codemirror_mode": {
    "name": "ipython",
    "version": 3
   },
   "file_extension": ".py",
   "mimetype": "text/x-python",
   "name": "python",
   "nbconvert_exporter": "python",
   "pygments_lexer": "ipython3",
   "version": "3.9.2"
  }
 },
 "nbformat": 4,
 "nbformat_minor": 2
}
